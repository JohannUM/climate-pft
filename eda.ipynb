{
 "cells": [
  {
   "cell_type": "code",
   "execution_count": 2,
   "id": "ed348c47",
   "metadata": {},
   "outputs": [
    {
     "name": "stdout",
     "output_type": "stream",
     "text": [
      "<class 'netCDF4.Dataset'>\n",
      "root group (NETCDF4 data model, file format HDF5):\n",
      "    Conventions: Berkeley Earth Internal Convention (based on CF-1.5)\n",
      "    title: Native Format Berkeley Earth Surface Temperature Anomaly Field\n",
      "    history: 09-Jan-2025 20:35:17\n",
      "    institution: Berkeley Earth Surface Temperature Project\n",
      "    land_source_history: 04-Jan-2025 19:11:11\n",
      "    ocean_source_history: 06-Jan-2025 11:47:59\n",
      "    comment: This file contains Berkeley Earth surface temperature anomaly field in our native equal-area format.\n",
      "    dimensions(sizes): longitude(360), latitude(180), time(2100), month_number(12)\n",
      "    variables(dimensions): float32 longitude(longitude), float32 latitude(latitude), float64 time(time), float64 land_mask(latitude, longitude), float32 temperature(time, latitude, longitude), float32 climatology(month_number, latitude, longitude)\n",
      "    groups: \n"
     ]
    }
   ],
   "source": [
    "import netCDF4 as nc\n",
    "\n",
    "fn = 'data/Land_and_Ocean_LatLong1.nc'\n",
    "ds = nc.Dataset(fn)\n",
    "\n",
    "print(ds)"
   ]
  }
 ],
 "metadata": {
  "kernelspec": {
   "display_name": "climatepft",
   "language": "python",
   "name": "python3"
  },
  "language_info": {
   "codemirror_mode": {
    "name": "ipython",
    "version": 3
   },
   "file_extension": ".py",
   "mimetype": "text/x-python",
   "name": "python",
   "nbconvert_exporter": "python",
   "pygments_lexer": "ipython3",
   "version": "3.13.7"
  }
 },
 "nbformat": 4,
 "nbformat_minor": 5
}
