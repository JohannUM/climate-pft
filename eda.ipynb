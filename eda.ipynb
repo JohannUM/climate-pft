{
 "cells": [
  {
   "cell_type": "code",
   "execution_count": null,
   "id": "287538a5",
   "metadata": {},
   "outputs": [
    {
     "name": "stdout",
     "output_type": "stream",
     "text": [
      "data_stream-moda.nc summary:\n",
      "<class 'netCDF4.Dataset'>\n",
      "root group (NETCDF4 data model, file format HDF5):\n",
      "    GRIB_centre: ecmf\n",
      "    GRIB_centreDescription: European Centre for Medium-Range Weather Forecasts\n",
      "    GRIB_subCentre: 0\n",
      "    Conventions: CF-1.7\n",
      "    institution: European Centre for Medium-Range Weather Forecasts\n",
      "    history: 2025-09-17T14:43 GRIB to CDM+CF via cfgrib-0.9.15.0/ecCodes-2.42.0 with {\"source\": \"data.grib\", \"filter_by_keys\": {\"stream\": [\"moda\"]}, \"encode_cf\": [\"parameter\", \"time\", \"geography\", \"vertical\"]}\n",
      "    dimensions(sizes): valid_time(1), latitude(1801), longitude(3600)\n",
      "    variables(dimensions): int64 number(), int64 valid_time(valid_time), float64 latitude(latitude), float64 longitude(longitude), <class 'str'> expver(), float32 d2m(valid_time, latitude, longitude), float32 t2m(valid_time, latitude, longitude), float32 stl1(valid_time, latitude, longitude), float32 stl4(valid_time, latitude, longitude), float32 snowc(valid_time, latitude, longitude), float32 rsn(valid_time, latitude, longitude), float32 swvl1(valid_time, latitude, longitude), float32 swvl4(valid_time, latitude, longitude), float32 tp(valid_time, latitude, longitude)\n",
      "    groups: \n",
      "Variables: ['number', 'valid_time', 'latitude', 'longitude', 'expver', 'd2m', 't2m', 'stl1', 'stl4', 'snowc', 'rsn', 'swvl1', 'swvl4', 'tp']\n",
      "Global attributes: ['GRIB_centre', 'GRIB_centreDescription', 'GRIB_subCentre', 'Conventions', 'institution', 'history']\n",
      "\n",
      "\n",
      "slt.nc summary:\n",
      "<class 'netCDF4.Dataset'>\n",
      "root group (NETCDF4_CLASSIC data model, file format HDF5):\n",
      "    Conventions: CF-1.6\n",
      "    history: Thu Oct 21 16:32:46 2021: ncpdq -U slt_packed.nc slt.nc\n",
      "2021-10-21 15:30:16 GMT by grib_to_netcdf-2.21.0: grib_to_netcdf -k4 -o slt_packed.nc slt.grib\n",
      "    NCO: netCDF Operators version 4.9.7 (Homepage = http://nco.sf.net, Code = http://github.com/nco/nco)\n",
      "    dimensions(sizes): longitude(3600), latitude(1801), time(1)\n",
      "    variables(dimensions): float32 longitude(longitude), float32 latitude(latitude), int32 time(time), float64 slt(time, latitude, longitude)\n",
      "    groups: \n",
      "Variables: ['longitude', 'latitude', 'time', 'slt']\n",
      "Global attributes: ['Conventions', 'history', 'NCO']\n"
     ]
    }
   ],
   "source": [
    "import netCDF4 as nc\n",
    "fn1 = 'data_stream-moda.nc'\n",
    "fn2 = 'slt.nc'\n",
    "ds1 = nc.Dataset(fn1)\n",
    "ds2 = nc.Dataset(fn2)\n",
    "\n",
    "print('data_stream-moda.nc summary:')\n",
    "print(ds1)\n",
    "print('Variables:', list(ds1.variables.keys()))\n",
    "print('Global attributes:', ds1.ncattrs())\n",
    "print('\\n')\n",
    "print('slt.nc summary:')\n",
    "print(ds2)\n",
    "print('Variables:', list(ds2.variables.keys()))\n",
    "print('Global attributes:', ds2.ncattrs())"
   ]
  }
 ],
 "metadata": {
  "kernelspec": {
   "display_name": "climatepft",
   "language": "python",
   "name": "python3"
  },
  "language_info": {
   "codemirror_mode": {
    "name": "ipython",
    "version": 3
   },
   "file_extension": ".py",
   "mimetype": "text/x-python",
   "name": "python",
   "nbconvert_exporter": "python",
   "pygments_lexer": "ipython3",
   "version": "3.13.7"
  }
 },
 "nbformat": 4,
 "nbformat_minor": 5
}
