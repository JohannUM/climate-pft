{
 "cells": [
  {
   "cell_type": "markdown",
   "id": "f73f20c0",
   "metadata": {},
   "source": [
    "# Preparing ERA5-Land Dataset\n",
    "\n",
    "Requirement: Setup the cdsapi with your account as described here: https://cds.climate.copernicus.eu/how-to-api"
   ]
  },
  {
   "cell_type": "markdown",
   "id": "784a8cad",
   "metadata": {},
   "source": [
    "#### Imports"
   ]
  },
  {
   "cell_type": "code",
   "execution_count": 5,
   "id": "042113f9",
   "metadata": {},
   "outputs": [],
   "source": [
    "import cdsapi\n",
    "import zipfile\n",
    "import os"
   ]
  },
  {
   "cell_type": "markdown",
   "id": "6e09b57f",
   "metadata": {},
   "source": [
    "#### Loading the dataset\n",
    "1. Make the API call"
   ]
  },
  {
   "cell_type": "code",
   "execution_count": null,
   "id": "01e595fd",
   "metadata": {},
   "outputs": [],
   "source": [
    "dataset_name = \"era5-land-2020-01\"\n",
    "target_zip_file = f'data/{dataset_name}.zip'\n",
    "\n",
    "dataset = \"reanalysis-era5-land-monthly-means\"\n",
    "request = {\n",
    "    \"product_type\": [\"monthly_averaged_reanalysis\"],\n",
    "    \"variable\": [\n",
    "        \"2m_dewpoint_temperature\",\n",
    "        \"2m_temperature\",\n",
    "        \"soil_temperature_level_1\",\n",
    "        \"soil_temperature_level_4\",\n",
    "        \"snow_cover\",\n",
    "        \"snow_density\",\n",
    "        \"volumetric_soil_water_layer_1\",\n",
    "        \"volumetric_soil_water_layer_4\",\n",
    "        \"total_precipitation\",\n",
    "        \"soil_type\"\n",
    "    ],\n",
    "    \"year\": [\"2020\"],\n",
    "    \"month\": [\n",
    "        \"01\"\n",
    "    ],\n",
    "    \"time\": [\"00:00\"],\n",
    "    \"data_format\": \"netcdf\",\n",
    "    \"download_format\": \"zip\"\n",
    "}\n",
    "\n",
    "client = cdsapi.Client()\n",
    "result = client.retrieve(dataset, request).download(target_zip_file)"
   ]
  },
  {
   "cell_type": "markdown",
   "id": "e48f1dda",
   "metadata": {},
   "source": [
    "2. Unzip the dataset and rename it accordingly"
   ]
  },
  {
   "cell_type": "code",
   "execution_count": 6,
   "id": "4e5c942b",
   "metadata": {},
   "outputs": [],
   "source": [
    "with zipfile.ZipFile(target_zip_file, \"r\") as zip_ref:\n",
    "    file_list = zip_ref.namelist()\n",
    "    data_file = next(f for f in file_list if \"data\" in f)\n",
    "    zip_ref.extract(data_file, \"data/\")\n",
    "    os.rename(f\"data/{data_file}\", f\"data/{dataset_name}.nc\")"
   ]
  }
 ],
 "metadata": {
  "kernelspec": {
   "display_name": "climatepft",
   "language": "python",
   "name": "python3"
  },
  "language_info": {
   "codemirror_mode": {
    "name": "ipython",
    "version": 3
   },
   "file_extension": ".py",
   "mimetype": "text/x-python",
   "name": "python",
   "nbconvert_exporter": "python",
   "pygments_lexer": "ipython3",
   "version": "3.13.7"
  }
 },
 "nbformat": 4,
 "nbformat_minor": 5
}
